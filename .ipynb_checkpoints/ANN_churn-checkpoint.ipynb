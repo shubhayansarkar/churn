{
 "cells": [
  {
   "cell_type": "code",
   "execution_count": 7,
   "id": "c46c6270",
   "metadata": {},
   "outputs": [],
   "source": [
    "import numpy as np\n",
    "import pandas as pd\n"
   ]
  },
  {
   "cell_type": "code",
   "execution_count": 11,
   "id": "92af6d0a",
   "metadata": {},
   "outputs": [],
   "source": [
    "churn_Df=pd.read_csv(r'E:\\mydocs\\newdata\\churn\\WA_Fn-UseC_-Telco-Customer-Churn.csv')"
   ]
  },
  {
   "cell_type": "code",
   "execution_count": 12,
   "id": "47bce552",
   "metadata": {},
   "outputs": [
    {
     "data": {
      "text/html": [
       "<div>\n",
       "<style scoped>\n",
       "    .dataframe tbody tr th:only-of-type {\n",
       "        vertical-align: middle;\n",
       "    }\n",
       "\n",
       "    .dataframe tbody tr th {\n",
       "        vertical-align: top;\n",
       "    }\n",
       "\n",
       "    .dataframe thead th {\n",
       "        text-align: right;\n",
       "    }\n",
       "</style>\n",
       "<table border=\"1\" class=\"dataframe\">\n",
       "  <thead>\n",
       "    <tr style=\"text-align: right;\">\n",
       "      <th></th>\n",
       "      <th>customerID</th>\n",
       "      <th>gender</th>\n",
       "      <th>SeniorCitizen</th>\n",
       "      <th>Partner</th>\n",
       "      <th>Dependents</th>\n",
       "      <th>tenure</th>\n",
       "      <th>PhoneService</th>\n",
       "      <th>MultipleLines</th>\n",
       "      <th>InternetService</th>\n",
       "      <th>OnlineSecurity</th>\n",
       "      <th>...</th>\n",
       "      <th>DeviceProtection</th>\n",
       "      <th>TechSupport</th>\n",
       "      <th>StreamingTV</th>\n",
       "      <th>StreamingMovies</th>\n",
       "      <th>Contract</th>\n",
       "      <th>PaperlessBilling</th>\n",
       "      <th>PaymentMethod</th>\n",
       "      <th>MonthlyCharges</th>\n",
       "      <th>TotalCharges</th>\n",
       "      <th>Churn</th>\n",
       "    </tr>\n",
       "  </thead>\n",
       "  <tbody>\n",
       "    <tr>\n",
       "      <th>0</th>\n",
       "      <td>7590-VHVEG</td>\n",
       "      <td>Female</td>\n",
       "      <td>0</td>\n",
       "      <td>Yes</td>\n",
       "      <td>No</td>\n",
       "      <td>1</td>\n",
       "      <td>No</td>\n",
       "      <td>No phone service</td>\n",
       "      <td>DSL</td>\n",
       "      <td>No</td>\n",
       "      <td>...</td>\n",
       "      <td>No</td>\n",
       "      <td>No</td>\n",
       "      <td>No</td>\n",
       "      <td>No</td>\n",
       "      <td>Month-to-month</td>\n",
       "      <td>Yes</td>\n",
       "      <td>Electronic check</td>\n",
       "      <td>29.85</td>\n",
       "      <td>29.85</td>\n",
       "      <td>No</td>\n",
       "    </tr>\n",
       "    <tr>\n",
       "      <th>1</th>\n",
       "      <td>5575-GNVDE</td>\n",
       "      <td>Male</td>\n",
       "      <td>0</td>\n",
       "      <td>No</td>\n",
       "      <td>No</td>\n",
       "      <td>34</td>\n",
       "      <td>Yes</td>\n",
       "      <td>No</td>\n",
       "      <td>DSL</td>\n",
       "      <td>Yes</td>\n",
       "      <td>...</td>\n",
       "      <td>Yes</td>\n",
       "      <td>No</td>\n",
       "      <td>No</td>\n",
       "      <td>No</td>\n",
       "      <td>One year</td>\n",
       "      <td>No</td>\n",
       "      <td>Mailed check</td>\n",
       "      <td>56.95</td>\n",
       "      <td>1889.5</td>\n",
       "      <td>No</td>\n",
       "    </tr>\n",
       "    <tr>\n",
       "      <th>2</th>\n",
       "      <td>3668-QPYBK</td>\n",
       "      <td>Male</td>\n",
       "      <td>0</td>\n",
       "      <td>No</td>\n",
       "      <td>No</td>\n",
       "      <td>2</td>\n",
       "      <td>Yes</td>\n",
       "      <td>No</td>\n",
       "      <td>DSL</td>\n",
       "      <td>Yes</td>\n",
       "      <td>...</td>\n",
       "      <td>No</td>\n",
       "      <td>No</td>\n",
       "      <td>No</td>\n",
       "      <td>No</td>\n",
       "      <td>Month-to-month</td>\n",
       "      <td>Yes</td>\n",
       "      <td>Mailed check</td>\n",
       "      <td>53.85</td>\n",
       "      <td>108.15</td>\n",
       "      <td>Yes</td>\n",
       "    </tr>\n",
       "    <tr>\n",
       "      <th>3</th>\n",
       "      <td>7795-CFOCW</td>\n",
       "      <td>Male</td>\n",
       "      <td>0</td>\n",
       "      <td>No</td>\n",
       "      <td>No</td>\n",
       "      <td>45</td>\n",
       "      <td>No</td>\n",
       "      <td>No phone service</td>\n",
       "      <td>DSL</td>\n",
       "      <td>Yes</td>\n",
       "      <td>...</td>\n",
       "      <td>Yes</td>\n",
       "      <td>Yes</td>\n",
       "      <td>No</td>\n",
       "      <td>No</td>\n",
       "      <td>One year</td>\n",
       "      <td>No</td>\n",
       "      <td>Bank transfer (automatic)</td>\n",
       "      <td>42.30</td>\n",
       "      <td>1840.75</td>\n",
       "      <td>No</td>\n",
       "    </tr>\n",
       "    <tr>\n",
       "      <th>4</th>\n",
       "      <td>9237-HQITU</td>\n",
       "      <td>Female</td>\n",
       "      <td>0</td>\n",
       "      <td>No</td>\n",
       "      <td>No</td>\n",
       "      <td>2</td>\n",
       "      <td>Yes</td>\n",
       "      <td>No</td>\n",
       "      <td>Fiber optic</td>\n",
       "      <td>No</td>\n",
       "      <td>...</td>\n",
       "      <td>No</td>\n",
       "      <td>No</td>\n",
       "      <td>No</td>\n",
       "      <td>No</td>\n",
       "      <td>Month-to-month</td>\n",
       "      <td>Yes</td>\n",
       "      <td>Electronic check</td>\n",
       "      <td>70.70</td>\n",
       "      <td>151.65</td>\n",
       "      <td>Yes</td>\n",
       "    </tr>\n",
       "    <tr>\n",
       "      <th>...</th>\n",
       "      <td>...</td>\n",
       "      <td>...</td>\n",
       "      <td>...</td>\n",
       "      <td>...</td>\n",
       "      <td>...</td>\n",
       "      <td>...</td>\n",
       "      <td>...</td>\n",
       "      <td>...</td>\n",
       "      <td>...</td>\n",
       "      <td>...</td>\n",
       "      <td>...</td>\n",
       "      <td>...</td>\n",
       "      <td>...</td>\n",
       "      <td>...</td>\n",
       "      <td>...</td>\n",
       "      <td>...</td>\n",
       "      <td>...</td>\n",
       "      <td>...</td>\n",
       "      <td>...</td>\n",
       "      <td>...</td>\n",
       "      <td>...</td>\n",
       "    </tr>\n",
       "    <tr>\n",
       "      <th>7038</th>\n",
       "      <td>6840-RESVB</td>\n",
       "      <td>Male</td>\n",
       "      <td>0</td>\n",
       "      <td>Yes</td>\n",
       "      <td>Yes</td>\n",
       "      <td>24</td>\n",
       "      <td>Yes</td>\n",
       "      <td>Yes</td>\n",
       "      <td>DSL</td>\n",
       "      <td>Yes</td>\n",
       "      <td>...</td>\n",
       "      <td>Yes</td>\n",
       "      <td>Yes</td>\n",
       "      <td>Yes</td>\n",
       "      <td>Yes</td>\n",
       "      <td>One year</td>\n",
       "      <td>Yes</td>\n",
       "      <td>Mailed check</td>\n",
       "      <td>84.80</td>\n",
       "      <td>1990.5</td>\n",
       "      <td>No</td>\n",
       "    </tr>\n",
       "    <tr>\n",
       "      <th>7039</th>\n",
       "      <td>2234-XADUH</td>\n",
       "      <td>Female</td>\n",
       "      <td>0</td>\n",
       "      <td>Yes</td>\n",
       "      <td>Yes</td>\n",
       "      <td>72</td>\n",
       "      <td>Yes</td>\n",
       "      <td>Yes</td>\n",
       "      <td>Fiber optic</td>\n",
       "      <td>No</td>\n",
       "      <td>...</td>\n",
       "      <td>Yes</td>\n",
       "      <td>No</td>\n",
       "      <td>Yes</td>\n",
       "      <td>Yes</td>\n",
       "      <td>One year</td>\n",
       "      <td>Yes</td>\n",
       "      <td>Credit card (automatic)</td>\n",
       "      <td>103.20</td>\n",
       "      <td>7362.9</td>\n",
       "      <td>No</td>\n",
       "    </tr>\n",
       "    <tr>\n",
       "      <th>7040</th>\n",
       "      <td>4801-JZAZL</td>\n",
       "      <td>Female</td>\n",
       "      <td>0</td>\n",
       "      <td>Yes</td>\n",
       "      <td>Yes</td>\n",
       "      <td>11</td>\n",
       "      <td>No</td>\n",
       "      <td>No phone service</td>\n",
       "      <td>DSL</td>\n",
       "      <td>Yes</td>\n",
       "      <td>...</td>\n",
       "      <td>No</td>\n",
       "      <td>No</td>\n",
       "      <td>No</td>\n",
       "      <td>No</td>\n",
       "      <td>Month-to-month</td>\n",
       "      <td>Yes</td>\n",
       "      <td>Electronic check</td>\n",
       "      <td>29.60</td>\n",
       "      <td>346.45</td>\n",
       "      <td>No</td>\n",
       "    </tr>\n",
       "    <tr>\n",
       "      <th>7041</th>\n",
       "      <td>8361-LTMKD</td>\n",
       "      <td>Male</td>\n",
       "      <td>1</td>\n",
       "      <td>Yes</td>\n",
       "      <td>No</td>\n",
       "      <td>4</td>\n",
       "      <td>Yes</td>\n",
       "      <td>Yes</td>\n",
       "      <td>Fiber optic</td>\n",
       "      <td>No</td>\n",
       "      <td>...</td>\n",
       "      <td>No</td>\n",
       "      <td>No</td>\n",
       "      <td>No</td>\n",
       "      <td>No</td>\n",
       "      <td>Month-to-month</td>\n",
       "      <td>Yes</td>\n",
       "      <td>Mailed check</td>\n",
       "      <td>74.40</td>\n",
       "      <td>306.6</td>\n",
       "      <td>Yes</td>\n",
       "    </tr>\n",
       "    <tr>\n",
       "      <th>7042</th>\n",
       "      <td>3186-AJIEK</td>\n",
       "      <td>Male</td>\n",
       "      <td>0</td>\n",
       "      <td>No</td>\n",
       "      <td>No</td>\n",
       "      <td>66</td>\n",
       "      <td>Yes</td>\n",
       "      <td>No</td>\n",
       "      <td>Fiber optic</td>\n",
       "      <td>Yes</td>\n",
       "      <td>...</td>\n",
       "      <td>Yes</td>\n",
       "      <td>Yes</td>\n",
       "      <td>Yes</td>\n",
       "      <td>Yes</td>\n",
       "      <td>Two year</td>\n",
       "      <td>Yes</td>\n",
       "      <td>Bank transfer (automatic)</td>\n",
       "      <td>105.65</td>\n",
       "      <td>6844.5</td>\n",
       "      <td>No</td>\n",
       "    </tr>\n",
       "  </tbody>\n",
       "</table>\n",
       "<p>7043 rows × 21 columns</p>\n",
       "</div>"
      ],
      "text/plain": [
       "      customerID  gender  SeniorCitizen Partner Dependents  tenure  \\\n",
       "0     7590-VHVEG  Female              0     Yes         No       1   \n",
       "1     5575-GNVDE    Male              0      No         No      34   \n",
       "2     3668-QPYBK    Male              0      No         No       2   \n",
       "3     7795-CFOCW    Male              0      No         No      45   \n",
       "4     9237-HQITU  Female              0      No         No       2   \n",
       "...          ...     ...            ...     ...        ...     ...   \n",
       "7038  6840-RESVB    Male              0     Yes        Yes      24   \n",
       "7039  2234-XADUH  Female              0     Yes        Yes      72   \n",
       "7040  4801-JZAZL  Female              0     Yes        Yes      11   \n",
       "7041  8361-LTMKD    Male              1     Yes         No       4   \n",
       "7042  3186-AJIEK    Male              0      No         No      66   \n",
       "\n",
       "     PhoneService     MultipleLines InternetService OnlineSecurity  ...  \\\n",
       "0              No  No phone service             DSL             No  ...   \n",
       "1             Yes                No             DSL            Yes  ...   \n",
       "2             Yes                No             DSL            Yes  ...   \n",
       "3              No  No phone service             DSL            Yes  ...   \n",
       "4             Yes                No     Fiber optic             No  ...   \n",
       "...           ...               ...             ...            ...  ...   \n",
       "7038          Yes               Yes             DSL            Yes  ...   \n",
       "7039          Yes               Yes     Fiber optic             No  ...   \n",
       "7040           No  No phone service             DSL            Yes  ...   \n",
       "7041          Yes               Yes     Fiber optic             No  ...   \n",
       "7042          Yes                No     Fiber optic            Yes  ...   \n",
       "\n",
       "     DeviceProtection TechSupport StreamingTV StreamingMovies        Contract  \\\n",
       "0                  No          No          No              No  Month-to-month   \n",
       "1                 Yes          No          No              No        One year   \n",
       "2                  No          No          No              No  Month-to-month   \n",
       "3                 Yes         Yes          No              No        One year   \n",
       "4                  No          No          No              No  Month-to-month   \n",
       "...               ...         ...         ...             ...             ...   \n",
       "7038              Yes         Yes         Yes             Yes        One year   \n",
       "7039              Yes          No         Yes             Yes        One year   \n",
       "7040               No          No          No              No  Month-to-month   \n",
       "7041               No          No          No              No  Month-to-month   \n",
       "7042              Yes         Yes         Yes             Yes        Two year   \n",
       "\n",
       "     PaperlessBilling              PaymentMethod MonthlyCharges  TotalCharges  \\\n",
       "0                 Yes           Electronic check          29.85         29.85   \n",
       "1                  No               Mailed check          56.95        1889.5   \n",
       "2                 Yes               Mailed check          53.85        108.15   \n",
       "3                  No  Bank transfer (automatic)          42.30       1840.75   \n",
       "4                 Yes           Electronic check          70.70        151.65   \n",
       "...               ...                        ...            ...           ...   \n",
       "7038              Yes               Mailed check          84.80        1990.5   \n",
       "7039              Yes    Credit card (automatic)         103.20        7362.9   \n",
       "7040              Yes           Electronic check          29.60        346.45   \n",
       "7041              Yes               Mailed check          74.40         306.6   \n",
       "7042              Yes  Bank transfer (automatic)         105.65        6844.5   \n",
       "\n",
       "     Churn  \n",
       "0       No  \n",
       "1       No  \n",
       "2      Yes  \n",
       "3       No  \n",
       "4      Yes  \n",
       "...    ...  \n",
       "7038    No  \n",
       "7039    No  \n",
       "7040    No  \n",
       "7041   Yes  \n",
       "7042    No  \n",
       "\n",
       "[7043 rows x 21 columns]"
      ]
     },
     "execution_count": 12,
     "metadata": {},
     "output_type": "execute_result"
    }
   ],
   "source": [
    "churn_Df"
   ]
  },
  {
   "cell_type": "code",
   "execution_count": 14,
   "id": "0562f26e",
   "metadata": {},
   "outputs": [
    {
     "data": {
      "text/plain": [
       "(7043, 21)"
      ]
     },
     "execution_count": 14,
     "metadata": {},
     "output_type": "execute_result"
    }
   ],
   "source": [
    "churn_Df.shape"
   ]
  },
  {
   "cell_type": "code",
   "execution_count": 15,
   "id": "75e59f7b",
   "metadata": {},
   "outputs": [
    {
     "data": {
      "text/plain": [
       "Index(['customerID', 'gender', 'SeniorCitizen', 'Partner', 'Dependents',\n",
       "       'tenure', 'PhoneService', 'MultipleLines', 'InternetService',\n",
       "       'OnlineSecurity', 'OnlineBackup', 'DeviceProtection', 'TechSupport',\n",
       "       'StreamingTV', 'StreamingMovies', 'Contract', 'PaperlessBilling',\n",
       "       'PaymentMethod', 'MonthlyCharges', 'TotalCharges', 'Churn'],\n",
       "      dtype='object')"
      ]
     },
     "execution_count": 15,
     "metadata": {},
     "output_type": "execute_result"
    }
   ],
   "source": [
    "churn_Df.columnsmns "
   ]
  },
  {
   "cell_type": "code",
   "execution_count": 16,
   "id": "1b157f78",
   "metadata": {},
   "outputs": [
    {
     "data": {
      "text/plain": [
       "customerID          0\n",
       "gender              0\n",
       "SeniorCitizen       0\n",
       "Partner             0\n",
       "Dependents          0\n",
       "tenure              0\n",
       "PhoneService        0\n",
       "MultipleLines       0\n",
       "InternetService     0\n",
       "OnlineSecurity      0\n",
       "OnlineBackup        0\n",
       "DeviceProtection    0\n",
       "TechSupport         0\n",
       "StreamingTV         0\n",
       "StreamingMovies     0\n",
       "Contract            0\n",
       "PaperlessBilling    0\n",
       "PaymentMethod       0\n",
       "MonthlyCharges      0\n",
       "TotalCharges        0\n",
       "Churn               0\n",
       "dtype: int64"
      ]
     },
     "execution_count": 16,
     "metadata": {},
     "output_type": "execute_result"
    }
   ],
   "source": [
    "churn_Df.isnull().sum()"
   ]
  },
  {
   "cell_type": "code",
   "execution_count": 17,
   "id": "a4264ed4",
   "metadata": {},
   "outputs": [
    {
     "data": {
      "text/plain": [
       "customerID           object\n",
       "gender               object\n",
       "SeniorCitizen         int64\n",
       "Partner              object\n",
       "Dependents           object\n",
       "tenure                int64\n",
       "PhoneService         object\n",
       "MultipleLines        object\n",
       "InternetService      object\n",
       "OnlineSecurity       object\n",
       "OnlineBackup         object\n",
       "DeviceProtection     object\n",
       "TechSupport          object\n",
       "StreamingTV          object\n",
       "StreamingMovies      object\n",
       "Contract             object\n",
       "PaperlessBilling     object\n",
       "PaymentMethod        object\n",
       "MonthlyCharges      float64\n",
       "TotalCharges         object\n",
       "Churn                object\n",
       "dtype: object"
      ]
     },
     "execution_count": 17,
     "metadata": {},
     "output_type": "execute_result"
    }
   ],
   "source": [
    "churn_Df.dtypes"
   ]
  },
  {
   "cell_type": "code",
   "execution_count": null,
   "id": "58659cfe",
   "metadata": {},
   "outputs": [],
   "source": []
  },
  {
   "cell_type": "code",
   "execution_count": 19,
   "id": "4cf63268",
   "metadata": {},
   "outputs": [],
   "source": [
    "churn_Df.drop('customerID',axis=1,inplace=True)"
   ]
  },
  {
   "cell_type": "code",
   "execution_count": 30,
   "id": "ba085242",
   "metadata": {},
   "outputs": [
    {
     "data": {
      "text/plain": [
       "7043"
      ]
     },
     "execution_count": 30,
     "metadata": {},
     "output_type": "execute_result"
    }
   ],
   "source": [
    "churn_Df.TotalCharges.count()"
   ]
  },
  {
   "cell_type": "code",
   "execution_count": 34,
   "id": "8f58fc9b",
   "metadata": {},
   "outputs": [
    {
     "data": {
      "text/plain": [
       "(7032, 20)"
      ]
     },
     "execution_count": 34,
     "metadata": {},
     "output_type": "execute_result"
    }
   ],
   "source": [
    "churn_Df=churn_Df[churn_Df.TotalCharges!=' ']\n",
    "churn_Df.shape"
   ]
  },
  {
   "cell_type": "code",
   "execution_count": 36,
   "id": "457a5e06",
   "metadata": {},
   "outputs": [],
   "source": [
    "churn_Df.TotalCharges=pd.to_numeric(churn_Df.TotalCharges)"
   ]
  },
  {
   "cell_type": "code",
   "execution_count": 38,
   "id": "0659d12a",
   "metadata": {},
   "outputs": [
    {
     "data": {
      "text/plain": [
       "gender               object\n",
       "SeniorCitizen         int64\n",
       "Partner              object\n",
       "Dependents           object\n",
       "tenure                int64\n",
       "PhoneService         object\n",
       "MultipleLines        object\n",
       "InternetService      object\n",
       "OnlineSecurity       object\n",
       "OnlineBackup         object\n",
       "DeviceProtection     object\n",
       "TechSupport          object\n",
       "StreamingTV          object\n",
       "StreamingMovies      object\n",
       "Contract             object\n",
       "PaperlessBilling     object\n",
       "PaymentMethod        object\n",
       "MonthlyCharges      float64\n",
       "TotalCharges        float64\n",
       "Churn                object\n",
       "dtype: object"
      ]
     },
     "execution_count": 38,
     "metadata": {},
     "output_type": "execute_result"
    }
   ],
   "source": [
    "churn_Df.dtypes"
   ]
  },
  {
   "cell_type": "code",
   "execution_count": 50,
   "id": "243ee5cd",
   "metadata": {},
   "outputs": [
    {
     "name": "stdout",
     "output_type": "stream",
     "text": [
      "gender -> ['Female' 'Male']\n",
      "Partner -> ['Yes' 'No']\n",
      "Dependents -> ['No' 'Yes']\n",
      "PhoneService -> ['No' 'Yes']\n",
      "MultipleLines -> ['No phone service' 'No' 'Yes']\n",
      "InternetService -> ['DSL' 'Fiber optic' 'No']\n",
      "OnlineSecurity -> ['No' 'Yes' 'No internet service']\n",
      "OnlineBackup -> ['Yes' 'No' 'No internet service']\n",
      "DeviceProtection -> ['No' 'Yes' 'No internet service']\n",
      "TechSupport -> ['No' 'Yes' 'No internet service']\n",
      "StreamingTV -> ['No' 'Yes' 'No internet service']\n",
      "StreamingMovies -> ['No' 'Yes' 'No internet service']\n",
      "Contract -> ['Month-to-month' 'One year' 'Two year']\n",
      "PaperlessBilling -> ['Yes' 'No']\n",
      "PaymentMethod -> ['Electronic check' 'Mailed check' 'Bank transfer (automatic)'\n",
      " 'Credit card (automatic)']\n",
      "Churn -> ['No' 'Yes']\n"
     ]
    }
   ],
   "source": [
    "for i in churn_Df:\n",
    "    if churn_Df[i].dtype=='object':\n",
    "        print(f'{i} -> {churn_Df[i].unique()}')"
   ]
  },
  {
   "cell_type": "code",
   "execution_count": 54,
   "id": "08adeff6",
   "metadata": {},
   "outputs": [],
   "source": [
    "from sklearn.preprocessing import LabelEncoder\n",
    "label_encoder=LabelEncoder()\n",
    "def encode(colname):\n",
    "    churn_Df[colname]= label_encoder.fit_transform(churn_Df[colname])"
   ]
  },
  {
   "cell_type": "code",
   "execution_count": 55,
   "id": "dbd693b5",
   "metadata": {},
   "outputs": [],
   "source": [
    "for i in churn_Df:\n",
    "    if churn_Df[i].dtype=='object':\n",
    "        encode(i)"
   ]
  },
  {
   "cell_type": "code",
   "execution_count": 57,
   "id": "d23eb8b4",
   "metadata": {},
   "outputs": [
    {
     "name": "stdout",
     "output_type": "stream",
     "text": [
      "gender -> [0 1]\n",
      "SeniorCitizen -> [0 1]\n",
      "Partner -> [1 0]\n",
      "Dependents -> [0 1]\n",
      "tenure -> [ 1 34  2 45  8 22 10 28 62 13 16 58 49 25 69 52 71 21 12 30 47 72 17 27\n",
      "  5 46 11 70 63 43 15 60 18 66  9  3 31 50 64 56  7 42 35 48 29 65 38 68\n",
      " 32 55 37 36 41  6  4 33 67 23 57 61 14 20 53 40 59 24 44 19 54 51 26 39]\n",
      "PhoneService -> [0 1]\n",
      "MultipleLines -> [1 0 2]\n",
      "InternetService -> [0 1 2]\n",
      "OnlineSecurity -> [0 2 1]\n",
      "OnlineBackup -> [2 0 1]\n",
      "DeviceProtection -> [0 2 1]\n",
      "TechSupport -> [0 2 1]\n",
      "StreamingTV -> [0 2 1]\n",
      "StreamingMovies -> [0 2 1]\n",
      "Contract -> [0 1 2]\n",
      "PaperlessBilling -> [1 0]\n",
      "PaymentMethod -> [2 3 0 1]\n",
      "MonthlyCharges -> [29.85 56.95 53.85 ... 63.1  44.2  78.7 ]\n",
      "TotalCharges -> [  29.85 1889.5   108.15 ...  346.45  306.6  6844.5 ]\n",
      "Churn -> [0 1]\n"
     ]
    }
   ],
   "source": [
    "for i in churn_Df:\n",
    "        print(f'{i} -> {churn_Df[i].unique()}')"
   ]
  },
  {
   "cell_type": "code",
   "execution_count": 58,
   "id": "9ad13c38",
   "metadata": {},
   "outputs": [],
   "source": [
    "cols_to_scale = ['tenure','MonthlyCharges','TotalCharges']\n",
    "\n",
    "from sklearn.preprocessing import MinMaxScaler\n",
    "scaler = MinMaxScaler()\n",
    "churn_Df[cols_to_scale] = scaler.fit_transform(churn_Df[cols_to_scale])"
   ]
  },
  {
   "cell_type": "code",
   "execution_count": 59,
   "id": "4bb7b03a",
   "metadata": {},
   "outputs": [
    {
     "name": "stdout",
     "output_type": "stream",
     "text": [
      "gender -> [0 1]\n",
      "SeniorCitizen -> [0 1]\n",
      "Partner -> [1 0]\n",
      "Dependents -> [0 1]\n",
      "tenure -> [0.         0.46478873 0.01408451 0.61971831 0.09859155 0.29577465\n",
      " 0.12676056 0.38028169 0.85915493 0.16901408 0.21126761 0.8028169\n",
      " 0.67605634 0.33802817 0.95774648 0.71830986 0.98591549 0.28169014\n",
      " 0.15492958 0.4084507  0.64788732 1.         0.22535211 0.36619718\n",
      " 0.05633803 0.63380282 0.14084507 0.97183099 0.87323944 0.5915493\n",
      " 0.1971831  0.83098592 0.23943662 0.91549296 0.11267606 0.02816901\n",
      " 0.42253521 0.69014085 0.88732394 0.77464789 0.08450704 0.57746479\n",
      " 0.47887324 0.66197183 0.3943662  0.90140845 0.52112676 0.94366197\n",
      " 0.43661972 0.76056338 0.50704225 0.49295775 0.56338028 0.07042254\n",
      " 0.04225352 0.45070423 0.92957746 0.30985915 0.78873239 0.84507042\n",
      " 0.18309859 0.26760563 0.73239437 0.54929577 0.81690141 0.32394366\n",
      " 0.6056338  0.25352113 0.74647887 0.70422535 0.35211268 0.53521127]\n",
      "PhoneService -> [0 1]\n",
      "MultipleLines -> [1 0 2]\n",
      "InternetService -> [0 1 2]\n",
      "OnlineSecurity -> [0 2 1]\n",
      "OnlineBackup -> [2 0 1]\n",
      "DeviceProtection -> [0 2 1]\n",
      "TechSupport -> [0 2 1]\n",
      "StreamingTV -> [0 2 1]\n",
      "StreamingMovies -> [0 2 1]\n",
      "Contract -> [0 1 2]\n",
      "PaperlessBilling -> [1 0]\n",
      "PaymentMethod -> [2 3 0 1]\n",
      "MonthlyCharges -> [0.11542289 0.38507463 0.35422886 ... 0.44626866 0.25820896 0.60149254]\n",
      "TotalCharges -> [0.0012751  0.21586661 0.01031041 ... 0.03780868 0.03321025 0.78764136]\n",
      "Churn -> [0 1]\n"
     ]
    }
   ],
   "source": [
    "for i in churn_Df:\n",
    "        print(f'{i} -> {churn_Df[i].unique()}')"
   ]
  },
  {
   "cell_type": "code",
   "execution_count": 72,
   "id": "e1dce095",
   "metadata": {},
   "outputs": [],
   "source": [
    "X = churn_Df.drop('Churn',axis='columns')\n",
    "y = churn_Df['Churn']\n",
    "\n",
    "from sklearn.model_selection import train_test_split\n",
    "X_train, X_test, y_train, y_test = train_test_split(X,y,test_size=0.25,random_state=5)"
   ]
  },
  {
   "cell_type": "code",
   "execution_count": 60,
   "id": "81b4020e",
   "metadata": {},
   "outputs": [],
   "source": [
    "from tensorflow.keras.models import Sequential\n",
    "from tensorflow.keras.layers import Dense\n",
    "from tensorflow.keras.layers import ReLU,PReLU\n",
    "from tensorflow.keras.layers import Dropout"
   ]
  },
  {
   "cell_type": "code",
   "execution_count": 61,
   "id": "909c0aba",
   "metadata": {},
   "outputs": [],
   "source": [
    "classifier=Sequential()"
   ]
  },
  {
   "cell_type": "code",
   "execution_count": 63,
   "id": "16183bef",
   "metadata": {},
   "outputs": [
    {
     "ename": "SyntaxError",
     "evalue": "invalid syntax (2058197483.py, line 1)",
     "output_type": "error",
     "traceback": [
      "\u001b[1;36m  Input \u001b[1;32mIn [63]\u001b[1;36m\u001b[0m\n\u001b[1;33m    classifier.add(Dense((units=25,activation='relu')))\u001b[0m\n\u001b[1;37m                               ^\u001b[0m\n\u001b[1;31mSyntaxError\u001b[0m\u001b[1;31m:\u001b[0m invalid syntax\n"
     ]
    }
   ],
   "source": [
    "classifier.add(Dense((units=25,activation='relu')))"
   ]
  },
  {
   "cell_type": "code",
   "execution_count": 104,
   "id": "8b033f97",
   "metadata": {},
   "outputs": [],
   "source": [
    "classifier.add(Dense(25,'relu'))\n",
    "classifier.add(Dropout(.2))"
   ]
  },
  {
   "cell_type": "code",
   "execution_count": 105,
   "id": "de1c5981",
   "metadata": {},
   "outputs": [],
   "source": [
    "classifier.add(Dense(12,'relu'))\n",
    "classifier.add(Dropout(.2))"
   ]
  },
  {
   "cell_type": "code",
   "execution_count": 106,
   "id": "d6c903ab",
   "metadata": {},
   "outputs": [],
   "source": [
    "classifier.add(Dense(6,'relu'))\n",
    "classifier.add(Dropout(.2))"
   ]
  },
  {
   "cell_type": "code",
   "execution_count": 107,
   "id": "267006ef",
   "metadata": {},
   "outputs": [],
   "source": [
    "classifier.add(Dense(1,'sigmoid'))"
   ]
  },
  {
   "cell_type": "code",
   "execution_count": 108,
   "id": "49a162cd",
   "metadata": {},
   "outputs": [],
   "source": [
    "classifier.compile(optimizer='adam',loss='binary_crossentropy',metrics=['accuracy'])"
   ]
  },
  {
   "cell_type": "code",
   "execution_count": 109,
   "id": "2f7d8091",
   "metadata": {},
   "outputs": [],
   "source": [
    "import tensorflow\n",
    "early_stop=tensorflow.keras.callbacks.EarlyStopping(\n",
    "    monitor='val_loss',\n",
    "    min_delta=0.0001,\n",
    "    patience=15,\n",
    "    verbose=1,\n",
    "    mode='auto',\n",
    "    baseline=None,\n",
    "    restore_best_weights=True\n",
    ")"
   ]
  },
  {
   "cell_type": "code",
   "execution_count": 110,
   "id": "a3bea63e",
   "metadata": {},
   "outputs": [
    {
     "name": "stdout",
     "output_type": "stream",
     "text": [
      "Epoch 1/750\n",
      "739/739 [==============================] - 3s 3ms/step - loss: 0.6013 - accuracy: 0.7364 - val_loss: 0.5497 - val_accuracy: 0.7442\n",
      "Epoch 2/750\n",
      "739/739 [==============================] - 2s 2ms/step - loss: 0.5307 - accuracy: 0.7364 - val_loss: 0.4705 - val_accuracy: 0.7442\n",
      "Epoch 3/750\n",
      "739/739 [==============================] - 2s 3ms/step - loss: 0.4910 - accuracy: 0.7364 - val_loss: 0.4609 - val_accuracy: 0.7442\n",
      "Epoch 4/750\n",
      "739/739 [==============================] - 2s 2ms/step - loss: 0.4835 - accuracy: 0.7364 - val_loss: 0.4547 - val_accuracy: 0.7442\n",
      "Epoch 5/750\n",
      "739/739 [==============================] - 2s 3ms/step - loss: 0.4712 - accuracy: 0.7364 - val_loss: 0.4519 - val_accuracy: 0.7442\n",
      "Epoch 6/750\n",
      "739/739 [==============================] - 2s 3ms/step - loss: 0.4612 - accuracy: 0.7364 - val_loss: 0.4602 - val_accuracy: 0.7442\n",
      "Epoch 7/750\n",
      "739/739 [==============================] - 2s 3ms/step - loss: 0.4568 - accuracy: 0.7364 - val_loss: 0.4615 - val_accuracy: 0.7442\n",
      "Epoch 8/750\n",
      "739/739 [==============================] - 2s 3ms/step - loss: 0.4479 - accuracy: 0.7364 - val_loss: 0.4622 - val_accuracy: 0.7442\n",
      "Epoch 9/750\n",
      "739/739 [==============================] - 2s 3ms/step - loss: 0.4466 - accuracy: 0.7364 - val_loss: 0.4573 - val_accuracy: 0.7442\n",
      "Epoch 10/750\n",
      "739/739 [==============================] - 2s 3ms/step - loss: 0.4414 - accuracy: 0.7499 - val_loss: 0.4519 - val_accuracy: 0.7637\n",
      "Epoch 11/750\n",
      "739/739 [==============================] - 2s 3ms/step - loss: 0.4422 - accuracy: 0.7936 - val_loss: 0.4460 - val_accuracy: 0.7846\n",
      "Epoch 12/750\n",
      "739/739 [==============================] - 2s 3ms/step - loss: 0.4337 - accuracy: 0.8003 - val_loss: 0.4519 - val_accuracy: 0.7757\n",
      "Epoch 13/750\n",
      "739/739 [==============================] - 2s 2ms/step - loss: 0.4369 - accuracy: 0.8022 - val_loss: 0.4429 - val_accuracy: 0.7877\n",
      "Epoch 14/750\n",
      "739/739 [==============================] - 2s 3ms/step - loss: 0.4299 - accuracy: 0.7990 - val_loss: 0.4472 - val_accuracy: 0.7738\n",
      "Epoch 15/750\n",
      "739/739 [==============================] - 2s 2ms/step - loss: 0.4232 - accuracy: 0.8098 - val_loss: 0.4487 - val_accuracy: 0.7776\n",
      "Epoch 16/750\n",
      "739/739 [==============================] - 2s 2ms/step - loss: 0.4204 - accuracy: 0.8071 - val_loss: 0.4425 - val_accuracy: 0.7751\n",
      "Epoch 17/750\n",
      "739/739 [==============================] - 2s 2ms/step - loss: 0.4210 - accuracy: 0.8063 - val_loss: 0.4434 - val_accuracy: 0.7802\n",
      "Epoch 18/750\n",
      "739/739 [==============================] - 2s 2ms/step - loss: 0.4206 - accuracy: 0.8098 - val_loss: 0.4550 - val_accuracy: 0.7827\n",
      "Epoch 19/750\n",
      "739/739 [==============================] - 2s 3ms/step - loss: 0.4106 - accuracy: 0.8082 - val_loss: 0.4541 - val_accuracy: 0.7726\n",
      "Epoch 20/750\n",
      "739/739 [==============================] - 2s 3ms/step - loss: 0.4189 - accuracy: 0.8128 - val_loss: 0.4508 - val_accuracy: 0.7865\n",
      "Epoch 21/750\n",
      "739/739 [==============================] - 2s 2ms/step - loss: 0.4133 - accuracy: 0.8087 - val_loss: 0.4639 - val_accuracy: 0.7827\n",
      "Epoch 22/750\n",
      "739/739 [==============================] - 2s 3ms/step - loss: 0.4114 - accuracy: 0.8171 - val_loss: 0.4775 - val_accuracy: 0.7846\n",
      "Epoch 23/750\n",
      "739/739 [==============================] - 2s 3ms/step - loss: 0.4079 - accuracy: 0.8128 - val_loss: 0.4608 - val_accuracy: 0.7795\n",
      "Epoch 24/750\n",
      "739/739 [==============================] - 2s 2ms/step - loss: 0.4131 - accuracy: 0.8103 - val_loss: 0.4591 - val_accuracy: 0.7833\n",
      "Epoch 25/750\n",
      "739/739 [==============================] - 2s 2ms/step - loss: 0.4026 - accuracy: 0.8122 - val_loss: 0.4686 - val_accuracy: 0.7783\n",
      "Epoch 26/750\n",
      "739/739 [==============================] - 2s 3ms/step - loss: 0.4028 - accuracy: 0.8117 - val_loss: 0.4727 - val_accuracy: 0.7732\n",
      "Epoch 27/750\n",
      "739/739 [==============================] - 2s 3ms/step - loss: 0.3979 - accuracy: 0.8217 - val_loss: 0.4828 - val_accuracy: 0.7732\n",
      "Epoch 28/750\n",
      "739/739 [==============================] - 2s 2ms/step - loss: 0.4026 - accuracy: 0.8131 - val_loss: 0.4801 - val_accuracy: 0.7650\n",
      "Epoch 29/750\n",
      "739/739 [==============================] - 2s 3ms/step - loss: 0.3942 - accuracy: 0.8166 - val_loss: 0.4754 - val_accuracy: 0.7448\n",
      "Epoch 30/750\n",
      "739/739 [==============================] - 2s 3ms/step - loss: 0.3964 - accuracy: 0.8179 - val_loss: 0.4790 - val_accuracy: 0.7707\n",
      "Epoch 31/750\n",
      "728/739 [============================>.] - ETA: 0s - loss: 0.3932 - accuracy: 0.8190Restoring model weights from the end of the best epoch: 16.\n",
      "739/739 [==============================] - 2s 3ms/step - loss: 0.3931 - accuracy: 0.8193 - val_loss: 0.4827 - val_accuracy: 0.7543\n",
      "Epoch 00031: early stopping\n"
     ]
    }
   ],
   "source": [
    "model_history=classifier.fit(X_train,y_train,batch_size=5,validation_split=.3,epochs=750,callbacks=early_stop)"
   ]
  },
  {
   "cell_type": "code",
   "execution_count": 111,
   "id": "72c4635c",
   "metadata": {},
   "outputs": [
    {
     "data": {
      "text/plain": [
       "dict_keys(['loss', 'accuracy', 'val_loss', 'val_accuracy'])"
      ]
     },
     "execution_count": 111,
     "metadata": {},
     "output_type": "execute_result"
    }
   ],
   "source": [
    "model_history.history.keys()"
   ]
  },
  {
   "cell_type": "code",
   "execution_count": 112,
   "id": "d1fc4040",
   "metadata": {},
   "outputs": [],
   "source": [
    "import matplotlib.pyplot as plt\n",
    "import seaborn as sn\n",
    "%matplotlib inline"
   ]
  },
  {
   "cell_type": "code",
   "execution_count": 113,
   "id": "2bd77e0b",
   "metadata": {},
   "outputs": [
    {
     "data": {
      "text/plain": [
       "<matplotlib.legend.Legend at 0x1f63b654190>"
      ]
     },
     "execution_count": 113,
     "metadata": {},
     "output_type": "execute_result"
    },
    {
     "data": {
      "image/png": "[encoded data removed]",
      "text/plain": [
       "<Figure size 432x288 with 1 Axes>"
      ]
     },
     "metadata": {
      "needs_background": "light"
     },
     "output_type": "display_data"
    }
   ],
   "source": [
    "plt.plot(model_history.history['loss'])\n",
    "plt.plot(model_history.history['val_loss'])\n",
    "plt.ylable='loss'\n",
    "plt.xlable='epochs'\n",
    "plt.legend(['train','test'])"
   ]
  },
  {
   "cell_type": "code",
   "execution_count": 114,
   "id": "a1da91e8",
   "metadata": {},
   "outputs": [
    {
     "data": {
      "text/plain": [
       "<matplotlib.legend.Legend at 0x1f63b120e80>"
      ]
     },
     "execution_count": 114,
     "metadata": {},
     "output_type": "execute_result"
    },
    {
     "data": {
      "image/png": "[encoded data removed]",
      "text/plain": [
       "<Figure size 432x288 with 1 Axes>"
      ]
     },
     "metadata": {
      "needs_background": "light"
     },
     "output_type": "display_data"
    }
   ],
   "source": [
    "plt.plot(model_history.history['accuracy'])\n",
    "plt.plot(model_history.history['val_accuracy'])\n",
    "plt.ylable='accuracy'\n",
    "plt.xlable='epochs'\n",
    "plt.legend(['train','test'])"
   ]
  },
  {
   "cell_type": "code",
   "execution_count": 115,
   "id": "90a14d27",
   "metadata": {},
   "outputs": [
    {
     "name": "stdout",
     "output_type": "stream",
     "text": [
      "55/55 [==============================] - 0s 2ms/step - loss: 0.4598 - accuracy: 0.7696\n"
     ]
    },
    {
     "data": {
      "text/plain": [
       "[0.4597972631454468, 0.7696245908737183]"
      ]
     },
     "execution_count": 115,
     "metadata": {},
     "output_type": "execute_result"
    }
   ],
   "source": [
    "classifier.evaluate(X_test, y_test)"
   ]
  },
  {
   "cell_type": "code",
   "execution_count": 116,
   "id": "981f44e0",
   "metadata": {},
   "outputs": [],
   "source": [
    "yp = classifier.predict(X_test)\n",
    "yp=(yp>=0.5)\n"
   ]
  },
  {
   "cell_type": "code",
   "execution_count": 117,
   "id": "8977e062",
   "metadata": {},
   "outputs": [
    {
     "data": {
      "text/plain": [
       "array([[False],\n",
       "       [ True],\n",
       "       [False],\n",
       "       ...,\n",
       "       [False],\n",
       "       [False],\n",
       "       [False]])"
      ]
     },
     "execution_count": 117,
     "metadata": {},
     "output_type": "execute_result"
    }
   ],
   "source": [
    "yp"
   ]
  },
  {
   "cell_type": "code",
   "execution_count": 118,
   "id": "35def7b1",
   "metadata": {},
   "outputs": [
    {
     "name": "stdout",
     "output_type": "stream",
     "text": [
      "              precision    recall  f1-score   support\n",
      "\n",
      "           0       0.86      0.81      0.84      1267\n",
      "           1       0.58      0.66      0.62       491\n",
      "\n",
      "    accuracy                           0.77      1758\n",
      "   macro avg       0.72      0.74      0.73      1758\n",
      "weighted avg       0.78      0.77      0.77      1758\n",
      "\n"
     ]
    }
   ],
   "source": [
    "from sklearn.metrics import confusion_matrix , classification_report,accuracy_score\n",
    "\n",
    "print(classification_report(y_test,yp))"
   ]
  },
  {
   "cell_type": "code",
   "execution_count": 119,
   "id": "c4cd0f41",
   "metadata": {},
   "outputs": [
    {
     "name": "stdout",
     "output_type": "stream",
     "text": [
      "[[1028  239]\n",
      " [ 166  325]]\n"
     ]
    }
   ],
   "source": [
    "print(confusion_matrix(y_test,yp))"
   ]
  },
  {
   "cell_type": "code",
   "execution_count": 120,
   "id": "ffcbf94f",
   "metadata": {},
   "outputs": [
    {
     "name": "stdout",
     "output_type": "stream",
     "text": [
      "0.7696245733788396\n"
     ]
    }
   ],
   "source": [
    "print(accuracy_score(y_test,yp))"
   ]
  },
  {
   "cell_type": "code",
   "execution_count": null,
   "id": "ca67351f",
   "metadata": {},
   "outputs": [],
   "source": []
  }
 ],
 "metadata": {
  "kernelspec": {
   "display_name": "Python 3 (ipykernel)",
   "language": "python",
   "name": "python3"
  },
  "language_info": {
   "codemirror_mode": {
    "name": "ipython",
    "version": 3
   },
   "file_extension": ".py",
   "mimetype": "text/x-python",
   "name": "python",
   "nbconvert_exporter": "python",
   "pygments_lexer": "ipython3",
   "version": "3.9.4"
  }
 },
 "nbformat": 4,
 "nbformat_minor": 5
}
